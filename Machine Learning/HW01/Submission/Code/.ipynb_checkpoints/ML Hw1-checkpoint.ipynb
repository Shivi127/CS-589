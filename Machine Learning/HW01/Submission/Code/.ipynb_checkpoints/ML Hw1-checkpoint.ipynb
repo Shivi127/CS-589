{
 "cells": [
  {
   "cell_type": "markdown",
   "metadata": {},
   "source": [
    "# Importing the Dataset"
   ]
  },
  {
   "cell_type": "code",
   "execution_count": 33,
   "metadata": {},
   "outputs": [
    {
     "name": "stdout",
     "output_type": "stream",
     "text": [
      "Reading indoor localization dataset ...\n",
      "Train= (19937, 400)\n",
      "Test= (1111, 400)\n"
     ]
    }
   ],
   "source": [
    "# Import python modules\n",
    "import numpy as np\n",
    "import kaggle\n",
    "\n",
    "# Read in train and test data\n",
    "def read_data_power_plant():\n",
    "\tprint('Reading power plant dataset ...')\n",
    "\ttrain_x = np.loadtxt('../../Data/PowerOutput/data_train.txt')\n",
    "\ttrain_y = np.loadtxt('../../Data/PowerOutput/labels_train.txt')\n",
    "\ttest_x = np.loadtxt('../../Data/PowerOutput/data_test.txt')\n",
    "\n",
    "\treturn (train_x, train_y, test_x)\n",
    "\n",
    "def read_data_localization_indoors():\n",
    "\tprint('Reading indoor localization dataset ...')\n",
    "\ttrain_x = np.loadtxt('../../Data/IndoorLocalization/data_train.txt')\n",
    "\ttrain_y = np.loadtxt('../../Data/IndoorLocalization/labels_train.txt')\n",
    "\ttest_x = np.loadtxt('../../Data/IndoorLocalization/data_test.txt')\n",
    "\n",
    "\treturn (train_x, train_y, test_x)\n",
    "\n",
    "# Compute MAE\n",
    "def compute_error(y_hat, y):\n",
    "\t# mean absolute error\n",
    "\treturn np.abs(y_hat - y).mean()\n",
    "\n",
    "############################################################################\n",
    "\n",
    "train_x, train_y, test_x = read_data_localization_indoors()\n",
    "print('Train=', train_x.shape)\n",
    "print('Test=', test_x.shape)\n",
    "\n",
    "\n",
    "\n",
    "\n"
   ]
  },
  {
   "cell_type": "markdown",
   "metadata": {},
   "source": [
    "## Building the Classifier : \n"
   ]
  },
  {
   "cell_type": "markdown",
   "metadata": {},
   "source": [
    "# Decision Tree"
   ]
  },
  {
   "cell_type": "markdown",
   "metadata": {},
   "source": [
    "# Cross Validation"
   ]
  },
  {
   "cell_type": "code",
   "execution_count": 26,
   "metadata": {},
   "outputs": [
    {
     "name": "stdout",
     "output_type": "stream",
     "text": [
      "[0.21208480289302942, 0.172505045605897, 0.1598171901581768, 0.1624116312236549, 0.16633060984705864]\n",
      "Runtimes in milliseconds [2.2945799999996552, 2.9164800000000923, 4.009800000000183, 4.905960000000107, 5.741640000000103]\n",
      "Best Classifier Depth  9\n"
     ]
    }
   ],
   "source": [
    "from sklearn.tree import DecisionTreeRegressor\n",
    "from sklearn.model_selection import cross_val_predict\n",
    "import numpy as np\n",
    "import time\n",
    "\n",
    "param_range = [3,6,9,12,15]\n",
    "error = []\n",
    "runtime = []\n",
    "for p in param_range:\n",
    "    clf = DecisionTreeRegressor (max_depth=p)\n",
    "    start = time.clock()\n",
    "    predicted = cross_val_predict(clf, train_x, train_y, cv=5)\n",
    "    run = time.clock() - start\n",
    "    runtime.append(run*60)\n",
    "    error.append(compute_error(predicted,train_y))\n",
    "\n",
    "print (error)\n",
    "print(\"Runtimes in milliseconds\", runtime)\n",
    "print (\"Best Classifier Depth \", param_range[np.argmin(error)])\n",
    "\n"
   ]
  },
  {
   "cell_type": "markdown",
   "metadata": {},
   "source": [
    "# Plotting for Decision Tree "
   ]
  },
  {
   "cell_type": "code",
   "execution_count": 27,
   "metadata": {},
   "outputs": [
    {
     "data": {
      "image/png": "[encoded data removed]",
      "text/plain": [
       "<Figure size 432x288 with 1 Axes>"
      ]
     },
     "metadata": {},
     "output_type": "display_data"
    }
   ],
   "source": [
    "# Plotting Decision Tree Runtime\n",
    "import matplotlib.pyplot as plt\n",
    "plt.plot(param_range,runtime)\n",
    "plt.xlabel('Parameter for max_depth of the classifier') \n",
    "plt.ylabel('Time taken for 5-fold classification (in milliseconds) ') \n",
    "plt.title('Time VS Max Depth for BTree Classifier for Power Plant Dataset') \n",
    "plt.show() "
   ]
  },
  {
   "cell_type": "code",
   "execution_count": 28,
   "metadata": {},
   "outputs": [
    {
     "name": "stdout",
     "output_type": "stream",
     "text": [
      "Writing output to  ../Predictions/PowerOutput/best.csv\n"
     ]
    }
   ],
   "source": [
    "dtreeplant =  DecisionTreeRegressor(max_depth = param_range[np.argmin(error)] )\n",
    "dtreeplant.fit(train_x, train_y)\n",
    "predictionplant = dtreeplant.predict(test_x)\n",
    "\n",
    "\n",
    "# # Output file location\n",
    "file_name = '../Predictions/PowerOutput/best.csv'\n",
    "# file_name = '../Predictions/IndoorLocalization/best.csv'\n",
    "# Writing output in Kaggle format\n",
    "print('Writing output to ', file_name)\n",
    "kaggle.kaggleize(predictionplant, file_name)\n"
   ]
  },
  {
   "cell_type": "markdown",
   "metadata": {},
   "source": [
    "# KNN \n"
   ]
  },
  {
   "cell_type": "code",
   "execution_count": null,
   "metadata": {},
   "outputs": [],
   "source": [
    "from sklearn.neighbors import KNeighborsRegressor\n",
    "from sklearn.model_selection import cross_val_predict\n",
    "import numpy as np\n",
    "import time\n",
    "\n",
    "knn_params = [3, 5, 10, 20, 25]\n",
    "error = []\n",
    "runtime = []\n",
    "for p in knn_params:\n",
    "    clf = KNeighborsRegressor(n_neighbors =p)\n",
    "    start = time.clock()\n",
    "    predicted = cross_val_predict(clf, train_x, train_y, cv=5)\n",
    "    run = time.clock() - start\n",
    "    runtime.append(run*60)\n",
    "    error.append(compute_error(predicted,train_y))\n",
    "\n",
    "print (\"Error\", error)\n",
    "print()\n",
    "print(\"Runtimes in milliseconds\", runtime)\n",
    "print()\n",
    "print (\"Best Classifier: n_neighbors \", knn_params[np.argmin(error)])\n",
    "\n"
   ]
  },
  {
   "cell_type": "markdown",
   "metadata": {},
   "source": [
    "# Plotting KNN"
   ]
  },
  {
   "cell_type": "code",
   "execution_count": null,
   "metadata": {},
   "outputs": [],
   "source": [
    "# Plotting for KNN\n",
    "\n",
    "import matplotlib.pyplot as plt\n",
    "plt.plot(param_range,runtime)\n",
    "plt.xlabel('Parameter for N_Neighbors') \n",
    "plt.ylabel('Time taken for 5-fold classification (in milliseconds) ') \n",
    "plt.title('Time VS N_Neighbors for Power Plant Dataset') \n",
    "plt.show() "
   ]
  },
  {
   "cell_type": "code",
   "execution_count": null,
   "metadata": {},
   "outputs": [],
   "source": [
    "dtreeplant =  KNeighborsRegressor(n_neighbors = knn_params[np.argmin(error)])\n",
    "dtreeplant.fit(train_x, train_y)\n",
    "predictionplant = dtreeplant.predict(test_x)\n",
    "\n",
    "# Output file location\n",
    "# file_name = '../Predictions/PowerOutput/best.csv'\n",
    "file_name = '../Predictions/IndoorLocalization/best.csv'\n",
    "# Writing output in Kaggle format\n",
    "print('Writing output to ', file_name)\n",
    "kaggle.kaggleize(predictionplant, file_name)"
   ]
  },
  {
   "cell_type": "code",
   "execution_count": null,
   "metadata": {},
   "outputs": [],
   "source": []
  }
 ],
 "metadata": {
  "kernelspec": {
   "display_name": "Python 3",
   "language": "python",
   "name": "python3"
  },
  "language_info": {
   "codemirror_mode": {
    "name": "ipython",
    "version": 3
   },
   "file_extension": ".py",
   "mimetype": "text/x-python",
   "name": "python",
   "nbconvert_exporter": "python",
   "pygments_lexer": "ipython3",
   "version": "3.6.5"
  }
 },
 "nbformat": 4,
 "nbformat_minor": 2
}
