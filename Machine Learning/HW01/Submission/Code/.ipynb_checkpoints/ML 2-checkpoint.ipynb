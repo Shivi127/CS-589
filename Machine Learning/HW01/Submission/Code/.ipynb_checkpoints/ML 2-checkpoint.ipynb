{
 "cells": [
  {
   "cell_type": "markdown",
   "metadata": {},
   "source": [
    "# Loading the Dataset\n"
   ]
  },
  {
   "cell_type": "code",
   "execution_count": 3,
   "metadata": {},
   "outputs": [],
   "source": [
    "# Import python modules\n",
    "import numpy as np\n",
    "import kaggle\n",
    "\n",
    "# Read in train and test data\n",
    "def read_data_power_plant():\n",
    "\tprint('Reading power plant dataset ...')\n",
    "\ttrain_x = np.loadtxt('../../Data/PowerOutput/data_train.txt')\n",
    "\ttrain_y = np.loadtxt('../../Data/PowerOutput/labels_train.txt')\n",
    "\ttest_x = np.loadtxt('../../Data/PowerOutput/data_test.txt')\n",
    "\n",
    "\treturn (train_x, train_y, test_x)\n",
    "\n",
    "def read_data_localization_indoors():\n",
    "\tprint('Reading indoor localization dataset ...')\n",
    "\ttrain_x = np.loadtxt('../../Data/IndoorLocalization/data_train.txt')\n",
    "\ttrain_y = np.loadtxt('../../Data/IndoorLocalization/labels_train.txt')\n",
    "\ttest_x = np.loadtxt('../../Data/IndoorLocalization/data_test.txt')\n",
    "\n",
    "\treturn (train_x, train_y, test_x)\n",
    "\n",
    "# Compute MAE\n",
    "def compute_error(y_hat, y):\n",
    "\t# mean absolute error\n",
    "\treturn np.abs(y_hat - y).mean()"
   ]
  },
  {
   "cell_type": "code",
   "execution_count": 4,
   "metadata": {},
   "outputs": [
    {
     "name": "stdout",
     "output_type": "stream",
     "text": [
      "Reading indoor localization dataset ...\n",
      "Train= (19937, 400)\n",
      "Test= (1111, 400)\n"
     ]
    }
   ],
   "source": [
    "train_x, train_y, test_x = read_data_power_plant()\n",
    "print('Train=', train_x.shape)\n",
    "print('Test=', test_x.shape)\n",
    "\n"
   ]
  },
  {
   "cell_type": "markdown",
   "metadata": {},
   "source": [
    "# KNN was working well on this."
   ]
  },
  {
   "cell_type": "code",
   "execution_count": null,
   "metadata": {},
   "outputs": [],
   "source": [
    "from sklearn.neighbors import KNeighborsRegressor\n",
    "from sklearn.model_selection import cross_val_predict\n",
    "import numpy as np\n",
    "import time\n",
    "\n",
    "knn_params = [1,2,3,4,5,6]\n",
    "error = []\n",
    "runtime = []\n",
    "for p in knn_params:\n",
    "    clf = KNeighborsRegressor(n_neighbors =p, weights= 'distance', p=5, n_jobs=-1)\n",
    "    start = time.clock()\n",
    "    predicted = cross_val_predict(clf, train_x, train_y, cv= 8)\n",
    "    run = time.clock() - start\n",
    "    runtime.append(run*60)\n",
    "    error.append(compute_error(predicted,train_y))\n",
    "\n",
    "print (\"Error\", error)\n",
    "print()\n",
    "print(\"Runtimes in milliseconds\", runtime)\n",
    "print()\n",
    "print (\"Best Classifier: n_neighbors \", knn_params[np.argmin(error)])\n",
    "\n",
    "\n"
   ]
  },
  {
   "cell_type": "markdown",
   "metadata": {},
   "source": [
    "# 3.325290025152472, 3.4352715765267403, 3.563325237189254, 3.6796395737420364, 3.7959803128123735, 3.908577274647491, 4.016902496580957, 4.114719604968506, 4.684375303618349, 5.105387218298328, 5.320200832546407, 5.531610362669915, 5.722332928913685, 8.952209692193138]"
   ]
  },
  {
   "cell_type": "code",
   "execution_count": 5,
   "metadata": {},
   "outputs": [
    {
     "name": "stdout",
     "output_type": "stream",
     "text": [
      "Writing output to  ../Predictions/IndoorLocalization/best.csv\n"
     ]
    }
   ],
   "source": [
    "dtreeplant =  KNeighborsRegressor(n_neighbors = 1, n_jobs=-1, weights= 'distance', p=1)\n",
    "dtreeplant.fit(train_x, train_y)\n",
    "predictionplant = dtreeplant.predict(test_x)\n",
    "\n",
    "# Output file location\n",
    "# file_name = '../Predictions/PowerOutput/best.csv'\n",
    "file_name = '../Predictions/IndoorLocalization/best.csv'\n",
    "# Writing output in Kaggle format\n",
    "print('Writing output to ', file_name)\n",
    "kaggle.kaggleize(predictionplant, file_name)"
   ]
  },
  {
   "cell_type": "code",
   "execution_count": 24,
   "metadata": {},
   "outputs": [
    {
     "name": "stdout",
     "output_type": "stream",
     "text": [
      "Error [3.6359687071525313, 4.693829875783719, 5.5444697919815065, 6.0908176247389285, 6.338941783453713, 6.589492059512464, 6.804062269692029, 10.212685307810979]\n",
      "\n",
      "Runtimes in milliseconds [12638.592300000018, 15450.916920000018, 16219.336200000034, 16381.141020000141, 16542.92328000003, 16799.463179999875, 17026.422480000037, 21135.117659999887]\n",
      "\n",
      "Best Classifier: n_neighbors  3\n"
     ]
    }
   ],
   "source": [
    "from sklearn.neighbors import KNeighborsRegressor\n",
    "from sklearn.model_selection import cross_val_predict\n",
    "import numpy as np\n",
    "import time\n",
    "\n",
    "knn_params = [3,9,17,25,30,35,40,200]\n",
    "error = []\n",
    "runtime = []\n",
    "for p in knn_params:\n",
    "    clf = KNeighborsRegressor(n_neighbors =p, weights= 'uniform', p=2, n_jobs=-1,leaf_size = 15)\n",
    "    start = time.clock()\n",
    "    predicted = cross_val_predict(clf, train_x, train_y, cv= 8)\n",
    "    run = time.clock() - start\n",
    "    runtime.append(run*60)\n",
    "    error.append(compute_error(predicted,train_y))\n",
    "\n",
    "print (\"Error\", error)\n",
    "print()\n",
    "print(\"Runtimes in milliseconds\", runtime)\n",
    "print()\n",
    "print (\"Best Classifier: n_neighbors \", knn_params[np.argmin(error)])\n",
    "\n",
    "\n",
    "\n"
   ]
  },
  {
   "cell_type": "code",
   "execution_count": 6,
   "metadata": {},
   "outputs": [
    {
     "name": "stdout",
     "output_type": "stream",
     "text": [
      "Error [3.4352715765267403, 4.114719604968506, 4.684375303618349, 5.105387218298328, 5.320200832546407, 5.531610362669915, 5.722332928913685, 8.952209692193138]\n",
      "\n",
      "Runtimes in milliseconds [11311.546380000018, 12690.012900000029, 13329.940979999956, 13812.742139999991, 14469.617579999995, 14366.196539999964, 14731.444260000044, 17611.113179999993]\n",
      "\n",
      "Best Classifier: n_neighbors  3\n"
     ]
    }
   ],
   "source": [
    "from sklearn.neighbors import KNeighborsRegressor\n",
    "from sklearn.model_selection import cross_val_predict\n",
    "import numpy as np\n",
    "import time\n",
    "\n",
    "knn_params = [3,9,17,25,30,35,40,200]\n",
    "error = []\n",
    "runtime = []\n",
    "for p in knn_params:\n",
    "    clf = KNeighborsRegressor(n_neighbors =p, weights= 'distance', n_jobs=-1)\n",
    "    start = time.clock()\n",
    "    predicted = cross_val_predict(clf, train_x, train_y, cv= 8)\n",
    "    run = time.clock() - start\n",
    "    runtime.append(run*60)\n",
    "    error.append(compute_error(predicted,train_y))\n",
    "\n",
    "print (\"Error\", error)\n",
    "print()\n",
    "print(\"Runtimes in milliseconds\", runtime)\n",
    "print()\n",
    "print (\"Best Classifier: n_neighbors \", knn_params[np.argmin(error)])\n",
    "\n",
    "\n",
    "\n"
   ]
  },
  {
   "cell_type": "markdown",
   "metadata": {},
   "source": [
    "# 3.4352715765267403, 4.114719604968506, 4.684375303618349, 5.105387218298328, 5.320200832546407, 5.531610362669915, 5.722332928913685, 8.952209692193138]"
   ]
  },
  {
   "cell_type": "markdown",
   "metadata": {},
   "source": [
    "# Decision Tree\n"
   ]
  },
  {
   "cell_type": "code",
   "execution_count": 13,
   "metadata": {},
   "outputs": [
    {
     "name": "stdout",
     "output_type": "stream",
     "text": [
      "[71.34023100050247, 51.84340981006341, 44.415712868490324, 37.82029388652243, 28.98069094640117, 22.116948416269153, 15.78527736448852, 13.975185264477176, 13.449761054685773, 5.671742567736426, 5.602196057132781, 5.79703501807283, 5.6238460996503]\n",
      "Best Classifier Depth  125\n"
     ]
    }
   ],
   "source": [
    " from sklearn.tree import DecisionTreeRegressor\n",
    "from sklearn.model_selection import cross_val_predict\n",
    "import numpy as np\n",
    "import time\n",
    "\n",
    "\n",
    "# features =[1,2,3,4]\n",
    "param_range = [3,6,9,12,15,20,25,28,30,100,125,200,350]\n",
    "error = []\n",
    "runtime = []\n",
    "for p in param_range:\n",
    "#     for f in features:\n",
    "    clf = DecisionTreeRegressor (max_depth=p, max_features =3)\n",
    "    start = time.clock()\n",
    "    predicted = cross_val_predict(clf, train_x, train_y, cv=5)\n",
    "    run = time.clock() - start\n",
    "    runtime.append(run*60)\n",
    "    error.append(compute_error(predicted,train_y))\n",
    "\n",
    "print (error)\n",
    "# print(\"Runtimes in milliseconds\", runtime)\n",
    "print (\"Best Classifier Depth \", param_range[np.argmin(error)])\n",
    "\n",
    "\n"
   ]
  },
  {
   "cell_type": "code",
   "execution_count": 14,
   "metadata": {},
   "outputs": [
    {
     "name": "stdout",
     "output_type": "stream",
     "text": [
      "[66.46833258703079, 47.55688579647928, 36.19406976740847, 26.288031630124202, 22.725211587482924, 20.22546867432871, 11.953529774344801, 12.037843648690146, 10.063169032206554, 5.575582684061152, 5.5816551836086985, 5.470432203739744, 5.540963276699618]\n",
      "Best Classifier Depth  200\n"
     ]
    }
   ],
   "source": [
    " from sklearn.tree import DecisionTreeRegressor\n",
    "from sklearn.model_selection import cross_val_predict\n",
    "import numpy as np\n",
    "import time\n",
    "\n",
    "\n",
    "# features =[1,2,3,4]\n",
    "param_range = [3,6,9,12,15,20,25,28,30,100,125,200,350]\n",
    "error = []\n",
    "runtime = []\n",
    "for p in param_range:\n",
    "#     for f in features:\n",
    "    clf = DecisionTreeRegressor (max_depth=p, max_features =5)\n",
    "    start = time.clock()\n",
    "    predicted = cross_val_predict(clf, train_x, train_y, cv=5)\n",
    "    run = time.clock() - start\n",
    "    runtime.append(run*60)\n",
    "    error.append(compute_error(predicted,train_y))\n",
    "\n",
    "print (error)\n",
    "# print(\"Runtimes in milliseconds\", runtime)\n",
    "print (\"Best Classifier Depth \", param_range[np.argmin(error)])\n",
    "\n",
    "\n",
    "\n"
   ]
  },
  {
   "cell_type": "code",
   "execution_count": null,
   "metadata": {},
   "outputs": [],
   "source": []
  }
 ],
 "metadata": {
  "kernelspec": {
   "display_name": "Python 3",
   "language": "python",
   "name": "python3"
  }
 },
 "nbformat": 4,
 "nbformat_minor": 2
}
