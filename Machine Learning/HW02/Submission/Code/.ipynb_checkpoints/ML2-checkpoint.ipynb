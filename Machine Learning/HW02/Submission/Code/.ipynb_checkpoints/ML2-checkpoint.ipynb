{
 "cells": [
  {
   "cell_type": "code",
   "execution_count": 2,
   "metadata": {},
   "outputs": [
    {
     "ename": "NameError",
     "evalue": "name '__file__' is not defined",
     "output_type": "error",
     "traceback": [
      "\u001b[0;31m---------------------------------------------------------------------------\u001b[0m",
      "\u001b[0;31mNameError\u001b[0m                                 Traceback (most recent call last)",
      "\u001b[0;32m<ipython-input-2-d490312ecdba>\u001b[0m in \u001b[0;36m<module>\u001b[0;34m()\u001b[0m\n\u001b[1;32m     13\u001b[0m \u001b[0;34m\u001b[0m\u001b[0m\n\u001b[1;32m     14\u001b[0m \u001b[0;31m# importing local files\u001b[0m\u001b[0;34m\u001b[0m\u001b[0;34m\u001b[0m\u001b[0m\n\u001b[0;32m---> 15\u001b[0;31m \u001b[0mpath\u001b[0m\u001b[0;34m.\u001b[0m\u001b[0mappend\u001b[0m\u001b[0;34m(\u001b[0m\u001b[0mos\u001b[0m\u001b[0;34m.\u001b[0m\u001b[0mpath\u001b[0m\u001b[0;34m.\u001b[0m\u001b[0mjoin\u001b[0m\u001b[0;34m(\u001b[0m\u001b[0mos\u001b[0m\u001b[0;34m.\u001b[0m\u001b[0mpath\u001b[0m\u001b[0;34m.\u001b[0m\u001b[0mrealpath\u001b[0m\u001b[0;34m(\u001b[0m\u001b[0m__file__\u001b[0m\u001b[0;34m)\u001b[0m\u001b[0;34m,\u001b[0m \u001b[0mos\u001b[0m\u001b[0;34m.\u001b[0m\u001b[0mpardir\u001b[0m\u001b[0;34m)\u001b[0m\u001b[0;34m)\u001b[0m\u001b[0;34m\u001b[0m\u001b[0m\n\u001b[0m\u001b[1;32m     16\u001b[0m \u001b[0;32mimport\u001b[0m \u001b[0mdata_io\u001b[0m\u001b[0;34m\u001b[0m\u001b[0m\n\u001b[1;32m     17\u001b[0m \u001b[0;34m\u001b[0m\u001b[0m\n",
      "\u001b[0;31mNameError\u001b[0m: name '__file__' is not defined"
     ]
    }
   ],
   "source": [
    "# importing standard libraries\n",
    "from sys import path\n",
    "import os.path\n",
    "from sklearn.tree import DecisionTreeClassifier\n",
    "from sklearn.model_selection import GridSearchCV\n",
    "# importing third party modules\n",
    "# DO NOT import any other non-standard libraries: they may not be supported on Gradescope\n",
    "\n",
    "\n",
    "import numpy as np\n",
    "import sklearn.tree\n",
    "import sklearn.model_selection\n",
    "\n",
    "# importing local files\n",
    "path.append(os.path.join(os.path.realpath(__file__), os.pardir))\n",
    "import data_io\n",
    "\n",
    "def best_hyperparams():\n",
    "    # Modify this dictionary to contain the best hyperparameter value(s) you found\n",
    "    params = {\n",
    "                \"max_depth\": None\n",
    "             }\n",
    "    return params\n",
    "\n",
    "# This function will be executed by Gradescope\n",
    "# You should probably also call it from main()\n",
    "# Here is where you should create and train your decision tree\n",
    "# train_x and train_y are the training data (numpy arrays)\n",
    "# hyperparams is a dictionary of hyperparameters (in this case just 'max_depth')\n",
    "#  see best_hyperparams() above for an example\n",
    "# This function should return a trained decision tree\n",
    "def create_model(train_x, train_y, hyperparams):\n",
    "\n",
    "    # 'classifier' should be the decision tree model you train\n",
    "    # See here: http://lmgtfy.com/?q=sklearn+decision+tree+classifier\n",
    "    print(hyperparams)\n",
    "    # classifier = DecisionTreeClassifier(random_state = 0, \"max_depth\" = hyperparams)\n",
    "    # classifier.fit(train_x,train_y)\n",
    "\n",
    "\n",
    "    ##### YOUR CODE HERE #####\n",
    "\n",
    "    # return classifier\n",
    "\n",
    "    return None\n",
    "# This function will be run when this file is executed.\n",
    "# It will not be executed on Gradescope\n",
    "# Use this function to run your experiements\n",
    "def main():\n",
    "\n",
    "    # returns the mean L0 norm between the labels and predictions given\n",
    "    # in other words, the accuracy of your model on the test data\n",
    "    # labels is the ground truth labels\n",
    "    # predictions is your predictions on the data\n",
    "    # outputs a float between 0 and 1 (technically inclusive, but it probably won't be 0 or 1)\n",
    "    def accuracy(labels, predictions):\n",
    "        return ((labels == predictions).astype(int)).mean()\n",
    "\n",
    "    train_x, train_y = data_io.read_image_data()\n",
    "\n",
    "    ##### YOUR CODE HERE ######\n",
    "\n",
    "    # You'll probably want to change this line for cross-validation\n",
    "    # This is just an example of a call to create_model, defined above\n",
    "    parameters ={\"max_depth\":[3,6,9,12,14]}\n",
    "\n",
    "    print(\"I am here\")\n",
    "    # classifier = create_model(train_x, train_y, best_hyperparams())\n",
    "    clf = DecisionTreeClassifier(random_state=0)\n",
    "    grid = GridSearchCV(clf, parameters, cv= 5)\n",
    "    grid.fit(train_x,train_y)\n",
    "    print(grid.best_estimator_)\n",
    "    # classifier = clf.DecisionTreeClassifier(random_state=0, \"max_depth\" = hyperparams)\n",
    "\n",
    "\n",
    "\n",
    "\n",
    "\n",
    "\n",
    "    # This is a dummy test data set.\n",
    "    # They're all just random noise, not ships or horses or frogs or trucks,\n",
    "    # so your classifier should and will perform poorly on these.\n",
    "    # These lines of code are for demonstration purposes only.\n",
    "    test_x = np.random(*train_x.shape)\n",
    "    test_y = np.randint(0, 4, size=train_y.shape)\n",
    "    predictions = classifier.predict(test_x)\n",
    "\n",
    "    # prints the accuracy of your predictions\n",
    "    # should be about 0.25 for the random test data above\n",
    "    print(accuracy(predictions, test_y))\n",
    "\n",
    "    # While it's good practice to import at the beginning of a file,\n",
    "    # since Gradescope won't run this function,\n",
    "    # you can import anything you want here.\n",
    "    # matplotlib's pyplot is a good tool for making plots.\n",
    "    # You can install it here: http://lmgtfy.com/?q=matplotlib+download+python3+anaconda\n",
    "    # You can read about it here: http://lmgtfy.com/?q=matplotlib+pyplot+tutorial\n",
    "    from matplotlib import pyplot\n",
    "\n",
    "# # This runs 'main' upon loading the script\n",
    "# if __name__ == \"__main__\":\n",
    "#     main()\n"
   ]
  },
  {
   "cell_type": "code",
   "execution_count": null,
   "metadata": {},
   "outputs": [],
   "source": [
    "main()"
   ]
  },
  {
   "cell_type": "code",
   "execution_count": 11,
   "metadata": {},
   "outputs": [
    {
     "data": {
      "image/png": "[encoded data removed]",
      "text/plain": [
       "<Figure size 432x288 with 1 Axes>"
      ]
     },
     "metadata": {},
     "output_type": "display_data"
    }
   ],
   "source": [
    "a= [0.24805, 0.2456, 0.2479, 0.25015, 0.2466]\n",
    "depth= [3,6,9,12,14]\n",
    "positions = [0,1,2,3,4]\n",
    "import matplotlib.pyplot as plt\n",
    "plt.bar(positions,a,width = 0.5, color =\"r\")\n",
    "plt.xticks(positions,depth)\n",
    "plt.xlabel(\"Depth of the Decision Tree.\")\n",
    "plt.ylabel(\"Accuracy Obtained.\")\n",
    "plt.show()"
   ]
  },
  {
   "cell_type": "code",
   "execution_count": null,
   "metadata": {},
   "outputs": [],
   "source": []
  },
  {
   "cell_type": "code",
   "execution_count": null,
   "metadata": {},
   "outputs": [],
   "source": []
  }
 ],
 "metadata": {
  "kernelspec": {
   "display_name": "Python 3",
   "language": "python",
   "name": "python3"
  },
  "language_info": {
   "codemirror_mode": {
    "name": "ipython",
    "version": 3
   },
   "file_extension": ".py",
   "mimetype": "text/x-python",
   "name": "python",
   "nbconvert_exporter": "python",
   "pygments_lexer": "ipython3",
   "version": "3.6.5"
  }
 },
 "nbformat": 4,
 "nbformat_minor": 2
}
